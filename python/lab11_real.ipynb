{
 "cells": [
  {
   "cell_type": "markdown",
   "metadata": {
    "tags": []
   },
   "source": [
    "# Lab 11: Grid Localization using Bayes Filter (Real Robot)\n",
    "\n",
    "### <span style=\"color:rgb(0,150,0)\">It is recommended that you close any heavy-duty applications running on your system while working on this lab.</span>\n",
    "\n",
    "### <span style=\"color:rgb(0,150,0)\">The notebook only provides skeleton code for you to integrate the Localization class with the Real Robot.</span>\n",
    "\n",
    "<hr>"
   ]
  },
  {
   "cell_type": "code",
   "execution_count": 323,
   "metadata": {},
   "outputs": [
    {
     "name": "stdout",
     "output_type": "stream",
     "text": [
      "The autoreload extension is already loaded. To reload it, use:\n",
      "  %reload_ext autoreload\n",
      "2025-04-28 22:37:40,723 |\u001b[32m INFO     \u001b[0m|: Logger demo_notebook.log already initialized.\n",
      "2025-04-28 22:37:40,727 |\u001b[32m INFO     \u001b[0m|: GUI is already running. Shutdown notebook to force restart the GUI.\n"
     ]
    }
   ],
   "source": [
    "%load_ext autoreload\n",
    "%autoreload 2\n",
    "\n",
    "import traceback\n",
    "from notebook_utils import *\n",
    "from Traj import *\n",
    "import asyncio\n",
    "import pathlib\n",
    "import os\n",
    "from utils import load_config_params\n",
    "from localization_extras import Localization\n",
    "\n",
    "# The imports below will only work if you copied the required ble-related python files \n",
    "# into the notebooks directory\n",
    "from ble import get_ble_controller\n",
    "from base_ble import LOG\n",
    "from cmd_types import CMD\n",
    "import numpy as np\n",
    "\n",
    "# Setup Logger\n",
    "LOG = get_logger('demo_notebook.log')\n",
    "LOG.propagate = False\n",
    "\n",
    "# Init GUI and Commander\n",
    "gui = GET_GUI()\n",
    "cmdr = gui.launcher.commander"
   ]
  },
  {
   "cell_type": "code",
   "execution_count": 562,
   "metadata": {},
   "outputs": [
    {
     "name": "stdout",
     "output_type": "stream",
     "text": [
      "2025-04-29 01:18:59,233 |\u001b[32m INFO     \u001b[0m|: Creating New Plotter Process\n"
     ]
    }
   ],
   "source": [
    "# Start the plotter\n",
    "START_PLOTTER()"
   ]
  },
  {
   "cell_type": "markdown",
   "metadata": {},
   "source": [
    "# The RealRobot class\n",
    "Define the RealRobot class in the code cell below, based on the documentation and your real robot communication protocol. <br>\n",
    "This class is used by the **Localization** class to communicate with the real robot. <br>\n",
    "More specifically, the **Localization** class utilizes the **RealRobot's** member function **perform_observation_loop()** to get the 18 sensor readings and store them in its member variable **obs_range_data**, which is then utilized in the update step."
   ]
  },
  {
   "cell_type": "code",
   "execution_count": 573,
   "metadata": {},
   "outputs": [],
   "source": [
    "sensor_index = 0\n",
    "sensor_data = [[0.0 for _ in range(1)] for _ in range(18)]\n",
    "yaw_data = [[0.0 for _ in range(1)] for _ in range(18)]\n",
    "msg = None\n",
    "\n",
    "def data_collect(uuid, byte_array) :\n",
    "    global sensor_index\n",
    "    global sensor_data\n",
    "    global yaw_data\n",
    "    msg = ble.bytearray_to_string(byte_array)\n",
    "    if \",\" in msg:\n",
    "        data = msg.split(\",\")\n",
    "        if sensor_index < len(sensor_data):\n",
    "            sensor_data[sensor_index] = [float(data[1])]\n",
    "            yaw_data[sensor_index] = [float(data[2])]\n",
    "            sensor_index += 1 "
   ]
  },
  {
   "cell_type": "code",
   "execution_count": 574,
   "metadata": {},
   "outputs": [],
   "source": [
    "class RealRobot():\n",
    "    \"\"\"A class to interact with the real robot\n",
    "    \"\"\"\n",
    "    def __init__(self, commander, ble):\n",
    "        # Load world config\n",
    "        self.world_config = os.path.join(str(pathlib.Path(os.getcwd()).parent), \"config\", \"world.yaml\")\n",
    "        \n",
    "        self.config_params = load_config_params(self.world_config)\n",
    "        \n",
    "        # Commander to commuincate with the Plotter process\n",
    "        # Used by the Localization module to plot odom and belief\n",
    "        self.cmdr = commander\n",
    "\n",
    "        # ArtemisBLEController to communicate with the Robot\n",
    "        self.ble = ble\n",
    "\n",
    "    def get_pose(self):\n",
    "        \"\"\"Get robot pose based on odometry\n",
    "        \n",
    "        Returns:\n",
    "            current_odom -- Odometry Pose (meters, meters, degrees)\n",
    "        \"\"\"\n",
    "        raise NotImplementedError(\"get_pose is not implemented\")\n",
    "\n",
    "    def perform_observation_loop(self, rot_vel=120):\n",
    "        \"\"\"Perform the observation loop behavior on the real robot, where the robot does  \n",
    "        a 360 degree turn in place while collecting equidistant (in the angular space) sensor\n",
    "        readings, with the first sensor reading taken at the robot's current heading. \n",
    "        The number of sensor readings depends on \"observations_count\"(=18) defined in world.yaml.\n",
    "        \n",
    "        Keyword arguments:\n",
    "            rot_vel -- (Optional) Angular Velocity for loop (degrees/second)\n",
    "                        Do not remove this parameter from the function definition, even if you don't use it.\n",
    "        Returns:\n",
    "            sensor_ranges   -- A column numpy array of the range values (meters)\n",
    "            sensor_bearings -- A column numpy array of the bearings at which the sensor readings were taken (degrees)\n",
    "                               The bearing values are not used in the Localization module, so you may return a empty numpy array\n",
    "        \"\"\"\n",
    "        global sensor_data\n",
    "        global sensor_index\n",
    "        global yaw_data\n",
    "\n",
    "        sensor_index = 0\n",
    "        sensor_data = [[0.0 for _ in range(1)] for _ in range(18)]\n",
    "        yaw_data = [[0.0 for _ in range(1)] for _ in range(18)]\n",
    "\n",
    "        self.ble.start_notify(self.ble.uuid['RX_STRING'], data_collect)\n",
    "       \n",
    "        # Send command to rotate + scan\n",
    "        self.ble.send_command(CMD.START_MAP, \"\")\n",
    "       \n",
    "        import asyncio\n",
    "        asyncio.run(asyncio.sleep(20))\n",
    "       \n",
    "        self.ble.stop_notify(self.ble.uuid['RX_STRING'])\n",
    "       \n",
    "        sensor_ranges = np.array(sensor_data) / 1000.0\n",
    "        sensor_bearings = np.array([])[np.newaxis].T\n",
    "       \n",
    "        return sensor_ranges, sensor_bearings\n"
   ]
  },
  {
   "cell_type": "code",
   "execution_count": 575,
   "metadata": {},
   "outputs": [
    {
     "name": "stdout",
     "output_type": "stream",
     "text": [
      "2025-04-29 01:21:16,256 |\u001b[32m INFO     \u001b[0m|: Already connected to a BLE device\n"
     ]
    }
   ],
   "source": [
    "# Get ArtemisBLEController object\n",
    "ble = get_ble_controller()\n",
    "\n",
    "# Connect to the Artemis Device\n",
    "ble.connect()"
   ]
  },
  {
   "cell_type": "code",
   "execution_count": 576,
   "metadata": {},
   "outputs": [
    {
     "name": "stdout",
     "output_type": "stream",
     "text": [
      "2025-04-29 01:21:17,295 |\u001b[32m INFO     \u001b[0m|:  | Number of observations per grid cell: 18\n",
      "2025-04-29 01:21:17,296 |\u001b[32m INFO     \u001b[0m|:  | Precaching Views...\n",
      "2025-04-29 01:21:20,904 |\u001b[32m INFO     \u001b[0m|:  | Precaching Time: 3.607 secs\n",
      "2025-04-29 01:21:20,905 |\u001b[32m INFO     \u001b[0m|: Initializing beliefs with a Uniform Distribution\n",
      "2025-04-29 01:21:20,906 |\u001b[32m INFO     \u001b[0m|: Uniform Belief with each cell value: 0.00051440329218107\n"
     ]
    }
   ],
   "source": [
    "# Initialize RealRobot with a Commander object to communicate with the plotter process\n",
    "# and the ArtemisBLEController object to communicate with the real robot\n",
    "robot = RealRobot(cmdr, ble)\n",
    "\n",
    "# Initialize mapper\n",
    "# Requires a VirtualRobot object as a parameter\n",
    "mapper = Mapper(robot)\n",
    "\n",
    "# Initialize your BaseLocalization object\n",
    "# Requires a RealRobot object and a Mapper object as parameters\n",
    "loc = Localization(robot, mapper)\n",
    "\n",
    "## Plot Map\n",
    "cmdr.plot_map()"
   ]
  },
  {
   "cell_type": "markdown",
   "metadata": {},
   "source": [
    "# Run an update step of the Bayes Filter"
   ]
  },
  {
   "cell_type": "code",
   "execution_count": 577,
   "metadata": {},
   "outputs": [
    {
     "name": "stdout",
     "output_type": "stream",
     "text": [
      "2025-04-29 01:21:25,075 |\u001b[32m INFO     \u001b[0m|: Initializing beliefs with a Uniform Distribution\n",
      "2025-04-29 01:21:25,077 |\u001b[32m INFO     \u001b[0m|: Uniform Belief with each cell value: 0.00051440329218107\n",
      "2025-04-29 01:21:45,161 |\u001b[32m INFO     \u001b[0m|: Update Step\n",
      "2025-04-29 01:21:45,164 |\u001b[32m INFO     \u001b[0m|:      | Update Time: 0.002 secs\n",
      "2025-04-29 01:21:45,165 |\u001b[32m INFO     \u001b[0m|: Bel index     : (np.int64(2), np.int64(3), np.int64(6)) with prob = 1.0\n",
      "2025-04-29 01:21:45,167 |\u001b[32m INFO     \u001b[0m|: Bel_bar prob at index = 0.00051440329218107\n",
      "2025-04-29 01:21:45,168 |\u001b[32m INFO     \u001b[0m|: Belief        : (-0.914, -0.305, -50.000)\n"
     ]
    }
   ],
   "source": [
    "# Reset Plots\n",
    "cmdr.reset_plotter()\n",
    "\n",
    "# Init Uniform Belief\n",
    "loc.init_grid_beliefs()\n",
    "\n",
    "# Get Observation Data by executing a 360 degree rotation motion\n",
    "loc.get_observation_data()\n",
    "\n",
    "# Run Update Step\n",
    "loc.update_step()\n",
    "loc.plot_update_step_data(plot_data=True)\n",
    "\n",
    "# Plot Odom and GT\n",
    "# current_odom, current_gt = robot.get_pose()\n",
    "# cmdr.plot_gt(0, 0.9144) # top middle (0,3)\n",
    "cmdr.plot_gt(-0.9144, -0.6096) # bottom left (-3, -2)\n",
    "# cmdr.plot_gt(1.524, -0.9144) # bottom right (5,-3)\n",
    "# cmdr.plot_gt(1.524, 0.9144) # top right (5,3)\n",
    "# cmdr.plot_odom(current_odom[0], current_odom[1])"
   ]
  },
  {
   "cell_type": "code",
   "execution_count": 556,
   "metadata": {},
   "outputs": [
    {
     "name": "stdout",
     "output_type": "stream",
     "text": [
      "2025-04-29 01:16:14,092 |\u001b[32m INFO     \u001b[0m|: Disconnected from AC6D8405-1EA0-1D63-D5D5-053EFC3848E0\n"
     ]
    }
   ],
   "source": [
    "# cmdr.plot_gt(0, 0.9144) # top middle (0,3)\n",
    "# cmdr.plot_gt(1.524, -0.9144) # bottom right (5,-3)\n",
    "# cmdr.plot_gt(1.524, 0.9144) # top right (5,3)\n",
    "# cmdr.plot_gt(-0.9144, -0.6096) # bottom left (-3, -2)"
   ]
  },
  {
   "cell_type": "code",
   "execution_count": 437,
   "metadata": {},
   "outputs": [
    {
     "name": "stdout",
     "output_type": "stream",
     "text": [
      "[[357.0], [356.0], [417.0], [555.0], [475.0], [728.0], [681.0], [692.0], [908.0], [1462.0], [3218.0], [3419.0], [2233.0], [508.0], [2466.0], [2987.0], [632.0], [589.0]]\n",
      "[[397.0], [395.0], [431.0], [558.0], [768.0], [2064.0], [2251.0], [654.0], [484.0], [437.0], [2065.0], [1012.0], [523.0], [441.0], [373.0], [381.0], [515.0], [545.0]]\n"
     ]
    },
    {
     "name": "stderr",
     "output_type": "stream",
     "text": [
      "Traceback (most recent call last):\n",
      "  File \u001b[35m\"/Users/luluhtutt/cornell/ece4160/sim/FastRobots-sim-release-main/src/plotter.py\"\u001b[0m, line \u001b[35m263\u001b[0m, in \u001b[35mkeyPressEvent\u001b[0m\n",
      "    if event.key() == \u001b[1;31mQt.Key_Escape\u001b[0m:\n",
      "                      \u001b[1;31m^^^^^^^^^^^^^\u001b[0m\n",
      "\u001b[1;35mAttributeError\u001b[0m: \u001b[35mtype object 'Qt' has no attribute 'Key_Escape'\u001b[0m\n",
      "Traceback (most recent call last):\n",
      "  File \u001b[35m\"/Users/luluhtutt/cornell/ece4160/sim/FastRobots-sim-release-main/src/plotter.py\"\u001b[0m, line \u001b[35m263\u001b[0m, in \u001b[35mkeyPressEvent\u001b[0m\n",
      "    if event.key() == \u001b[1;31mQt.Key_Escape\u001b[0m:\n",
      "                      \u001b[1;31m^^^^^^^^^^^^^\u001b[0m\n",
      "\u001b[1;35mAttributeError\u001b[0m: \u001b[35mtype object 'Qt' has no attribute 'Key_Escape'\u001b[0m\n",
      "QGraphicsView::dragLeaveEvent: drag leave received before drag enter\n"
     ]
    }
   ],
   "source": [
    "print(sensor_data)\n",
    "print(yaw_data)"
   ]
  },
  {
   "cell_type": "code",
   "execution_count": 554,
   "metadata": {},
   "outputs": [],
   "source": [
    "bel_n3n2 = [[-0.610,-0.305,-10.0], [-0.610, -0.305, -30.0]]\n",
    "bel_03 = [[0.305,0.914,-50.0], [0.305,0.914,-20.0]]\n",
    "bel_5n3 = [[1.810, -1.210, -40.0], [1.810, -0.914, -50.0]]\n",
    "bel_53 = [[1.520, 0.910, -30.0], [1.524, 0.610, 150.0]]"
   ]
  },
  {
   "cell_type": "code",
   "execution_count": 583,
   "metadata": {},
   "outputs": [
    {
     "name": "stdout",
     "output_type": "stream",
     "text": [
      "0.4306280529645044\n",
      "0.3050002622949692\n",
      "0.41130932398864967\n",
      "0.3044\n"
     ]
    }
   ],
   "source": [
    "print(np.sqrt((-0.9144-(-0.610))**2 + (-0.6096-(-0.305))**2))\n",
    "print(np.sqrt((0-(0.305))**2 + (0.9144-(0.914))**2))\n",
    "print(np.sqrt((1.524-(1.810))**2 + (-0.9144-(-1.210))**2))\n",
    "print(np.sqrt((1.524-(1.524))**2 + (0.9144-(0.610))**2))"
   ]
  },
  {
   "cell_type": "code",
   "execution_count": 555,
   "metadata": {},
   "outputs": [
    {
     "name": "stdout",
     "output_type": "stream",
     "text": [
      "[[0.305, 0.914, -50.0], [0.305, 0.914, -20.0]]\n"
     ]
    }
   ],
   "source": [
    "print(bel_03)"
   ]
  },
  {
   "cell_type": "code",
   "execution_count": null,
   "metadata": {},
   "outputs": [],
   "source": []
  }
 ],
 "metadata": {
  "kernelspec": {
   "display_name": "Python 3 (ipykernel)",
   "language": "python",
   "name": "python3"
  },
  "language_info": {
   "codemirror_mode": {
    "name": "ipython",
    "version": 3
   },
   "file_extension": ".py",
   "mimetype": "text/x-python",
   "name": "python",
   "nbconvert_exporter": "python",
   "pygments_lexer": "ipython3",
   "version": "3.13.1"
  }
 },
 "nbformat": 4,
 "nbformat_minor": 4
}
